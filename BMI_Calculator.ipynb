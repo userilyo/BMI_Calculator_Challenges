{
 "cells": [
  {
   "cell_type": "code",
   "execution_count": 17,
   "id": "0b55aba0",
   "metadata": {},
   "outputs": [],
   "source": [
    "import pandas as pd \n",
    "\n",
    "import numpy as np\n",
    "\n",
    "import warnings\n",
    "warnings.filterwarnings(\"ignore\")"
   ]
  },
  {
   "cell_type": "code",
   "execution_count": 18,
   "id": "d3d21798",
   "metadata": {},
   "outputs": [],
   "source": [
    "#create a dtaframe using the given json file\n",
    "df = pd.read_json('bmidata.json')"
   ]
  },
  {
   "cell_type": "code",
   "execution_count": 19,
   "id": "8f109189",
   "metadata": {},
   "outputs": [
    {
     "data": {
      "text/html": [
       "<div><div id=022cf8e8-1ee0-4a7f-abe7-a2d4db987bdc style=\"display:none; background-color:#9D6CFF; color:white; width:200px; height:30px; padding-left:5px; border-radius:4px; flex-direction:row; justify-content:space-around; align-items:center;\" onmouseover=\"this.style.backgroundColor='#BA9BF8'\" onmouseout=\"this.style.backgroundColor='#9D6CFF'\" onclick=\"window.commands?.execute('create-mitosheet-from-dataframe-output');\">See Full Dataframe in Mito</div> <script> if (window.commands.hasCommand('create-mitosheet-from-dataframe-output')) document.getElementById('022cf8e8-1ee0-4a7f-abe7-a2d4db987bdc').style.display = 'flex' </script> <table border=\"1\" class=\"dataframe\">\n",
       "  <thead>\n",
       "    <tr style=\"text-align: right;\">\n",
       "      <th></th>\n",
       "      <th>Gender</th>\n",
       "      <th>HeightCm</th>\n",
       "      <th>WeightKg</th>\n",
       "    </tr>\n",
       "  </thead>\n",
       "  <tbody>\n",
       "    <tr>\n",
       "      <th>0</th>\n",
       "      <td>Male</td>\n",
       "      <td>171</td>\n",
       "      <td>96</td>\n",
       "    </tr>\n",
       "    <tr>\n",
       "      <th>1</th>\n",
       "      <td>Male</td>\n",
       "      <td>161</td>\n",
       "      <td>85</td>\n",
       "    </tr>\n",
       "    <tr>\n",
       "      <th>2</th>\n",
       "      <td>Male</td>\n",
       "      <td>180</td>\n",
       "      <td>77</td>\n",
       "    </tr>\n",
       "    <tr>\n",
       "      <th>3</th>\n",
       "      <td>Female</td>\n",
       "      <td>166</td>\n",
       "      <td>62</td>\n",
       "    </tr>\n",
       "    <tr>\n",
       "      <th>4</th>\n",
       "      <td>Female</td>\n",
       "      <td>150</td>\n",
       "      <td>70</td>\n",
       "    </tr>\n",
       "  </tbody>\n",
       "</table></div>"
      ],
      "text/plain": [
       "   Gender  HeightCm  WeightKg\n",
       "0    Male       171        96\n",
       "1    Male       161        85\n",
       "2    Male       180        77\n",
       "3  Female       166        62\n",
       "4  Female       150        70"
      ]
     },
     "execution_count": 19,
     "metadata": {},
     "output_type": "execute_result"
    }
   ],
   "source": [
    "df.head()"
   ]
  },
  {
   "cell_type": "code",
   "execution_count": 20,
   "id": "f2bfc68d",
   "metadata": {},
   "outputs": [
    {
     "name": "stdout",
     "output_type": "stream",
     "text": [
      "<class 'pandas.core.frame.DataFrame'>\n",
      "RangeIndex: 6 entries, 0 to 5\n",
      "Data columns (total 3 columns):\n",
      " #   Column    Non-Null Count  Dtype \n",
      "---  ------    --------------  ----- \n",
      " 0   Gender    6 non-null      object\n",
      " 1   HeightCm  6 non-null      int64 \n",
      " 2   WeightKg  6 non-null      int64 \n",
      "dtypes: int64(2), object(1)\n",
      "memory usage: 272.0+ bytes\n"
     ]
    }
   ],
   "source": [
    "df.info()"
   ]
  },
  {
   "cell_type": "code",
   "execution_count": 21,
   "id": "a6eb8945",
   "metadata": {},
   "outputs": [
    {
     "data": {
      "text/plain": [
       "(6, 3)"
      ]
     },
     "execution_count": 21,
     "metadata": {},
     "output_type": "execute_result"
    }
   ],
   "source": [
    "df.shape"
   ]
  },
  {
   "cell_type": "code",
   "execution_count": 22,
   "id": "09001497",
   "metadata": {},
   "outputs": [],
   "source": [
    "#Let transfor this json file into a csv file\n",
    "df.to_csv('Newbmidata.csv', index=False)"
   ]
  },
  {
   "cell_type": "markdown",
   "id": "da64bf0c",
   "metadata": {},
   "source": [
    "# Creating the main BMI calculator Apps"
   ]
  },
  {
   "cell_type": "code",
   "execution_count": 23,
   "id": "2ef1777d",
   "metadata": {},
   "outputs": [],
   "source": [
    "# Calculate BMI using this below formula:\n",
    "#BMI(kg/m2) = mass(kg) / height(m)2"
   ]
  },
  {
   "cell_type": "code",
   "execution_count": 24,
   "id": "96b0b406",
   "metadata": {},
   "outputs": [
    {
     "name": "stdout",
     "output_type": "stream",
     "text": [
      "New csv file created successfully..\n"
     ]
    }
   ],
   "source": [
    "import csv\n",
    "\n",
    "class BMI:\n",
    "    bmi_category ={ 'UW' :'Underweight',\n",
    "                    'NW': 'Normal Weight',\n",
    "                    'OW': 'Over Weight',\n",
    "                    'MO': 'Moderately obese',\n",
    "                    'SO': 'Severly obese',\n",
    "                    'VSO': 'Very Severly obese',\n",
    "                   }\n",
    "\n",
    "    health_risk = {\n",
    "                    'MR':'Malnutrition Risk',\n",
    "                    'LR': 'Low Risk',\n",
    "                    'ER': 'Enhanced Risk',\n",
    "                    'MRS': 'Medium Risk',\n",
    "                    'HR': 'High Risk',\n",
    "                    'VHR': 'Very High Risk',\n",
    "    }\n",
    "\n",
    "\n",
    "def read_contents():\n",
    "    list_of_row = []\n",
    "    with open('Newbmidata.csv') as file:\n",
    "        alllines = csv.reader(file)\n",
    "        for row in alllines:\n",
    "            list_of_row.append(row)\n",
    "        return list_of_row\n",
    "\n",
    "\n",
    "def finaldata_with_bmi(alldata):\n",
    "    line_count = 0\n",
    "    notValidData = []\n",
    "    validData = []\n",
    "    for row in alldata:\n",
    "        if line_count == 0:\n",
    "            line_count = 1\n",
    "        elif row[0].isalpha() == True and row[1].isnumeric() == True and row[2].isnumeric() == True :\n",
    "            bmi = calculate_bmi(row)\n",
    "            validData.append(row+bmi)\n",
    "            line_count +=1\n",
    "        else:\n",
    "            notValidData.append(row)\n",
    "            line_count +=1\n",
    "    # print('this data is not valid-->',notValidData)\n",
    "    # print('total_rows-->',line_count)\n",
    "    return validData\n",
    "\n",
    "\n",
    "def calculate_bmi(data):\n",
    "    BMI_categoty= None\n",
    "    Health_risk= None\n",
    "    BMI_range = None\n",
    "    x =int(data[1])\n",
    "    y = int(data[2])\n",
    "    bmi = y/((x/100)**2)\n",
    "    if bmi <= 18.4 :\n",
    "        BMI_category = BMI.bmi_category.get('UW')\n",
    "        BMI_range = bmi\n",
    "        Health_risk = BMI.health_risk.get('MR')\n",
    "    elif bmi >=18.5 and bmi <= 24.9:\n",
    "        BMI_category = BMI.bmi_category.get('NW')\n",
    "        BMI_range = bmi\n",
    "        Health_risk = BMI.health_risk.get('LR')\n",
    "    elif bmi >=25 and bmi <= 29.9:\n",
    "        BMI_category = BMI.bmi_category.get(\"OW\")\n",
    "        BMI_range = bmi\n",
    "        Health_risk = BMI.health_risk.get('ER')\n",
    "    elif bmi >=30 and bmi <= 34.9:\n",
    "        BMI_category = BMI.bmi_category.get(\"MO\")\n",
    "        BMI_range = bmi\n",
    "        Health_risk = BMI.health_risk.get('MRS')\n",
    "    elif bmi >= 35 and bmi <= 39.9:\n",
    "        BMI_category = BMI.bmi_category.get(\"SO\")\n",
    "        BMI_range = bmi\n",
    "        Health_risk = BMI.health_risk.get('HR')\n",
    "    elif bmi > 40:\n",
    "        BMI_category = BMI.bmi_category.get(\"VSO\")\n",
    "        BMI_range = bmi\n",
    "        Health_risk = BMI.health_risk.get('VHR')\n",
    "    bmi_list =[BMI_category,BMI_range,Health_risk]\n",
    "    return bmi_list\n",
    "\n",
    "\n",
    "def write_csv(data):\n",
    "    with open('output_Newbmidata.csv', 'w',newline='') as file:\n",
    "        csv_data = csv.writer(file, delimiter=',')\n",
    "        csv_data.writerow(['Gender', 'Height', 'Weight', 'BMI_category', 'BMI_range', 'Health_risk'])\n",
    "        for row in data:\n",
    "            # print(row)\n",
    "            csv_data.writerows([row])\n",
    "    return 'New csv file created successfully..'\n",
    "\n",
    "\n",
    "if __name__ == '__main__':\n",
    "    contents = read_contents()\n",
    "    # print(result)\n",
    "    finaldata = finaldata_with_bmi(contents)\n",
    "    # print('final data with BMI-->',finaldata)\n",
    "    result = write_csv(finaldata)\n",
    "    print(result)"
   ]
  },
  {
   "cell_type": "code",
   "execution_count": 25,
   "id": "0bcbc578",
   "metadata": {},
   "outputs": [],
   "source": [
    "#create a csv file using the given json file\n",
    "New_df = pd.read_csv('output_Newbmidata.csv')"
   ]
  },
  {
   "cell_type": "code",
   "execution_count": 40,
   "id": "0965d699",
   "metadata": {},
   "outputs": [
    {
     "data": {
      "text/plain": [
       "(6, 6)"
      ]
     },
     "execution_count": 40,
     "metadata": {},
     "output_type": "execute_result"
    }
   ],
   "source": [
    "New_df.shape"
   ]
  },
  {
   "cell_type": "code",
   "execution_count": 41,
   "id": "0073c6a3",
   "metadata": {},
   "outputs": [
    {
     "data": {
      "text/html": [
       "<div><div id=3c137da0-8a1c-4067-a5d0-73e90d55f771 style=\"display:none; background-color:#9D6CFF; color:white; width:200px; height:30px; padding-left:5px; border-radius:4px; flex-direction:row; justify-content:space-around; align-items:center;\" onmouseover=\"this.style.backgroundColor='#BA9BF8'\" onmouseout=\"this.style.backgroundColor='#9D6CFF'\" onclick=\"window.commands?.execute('create-mitosheet-from-dataframe-output');\">See Full Dataframe in Mito</div> <script> if (window.commands.hasCommand('create-mitosheet-from-dataframe-output')) document.getElementById('3c137da0-8a1c-4067-a5d0-73e90d55f771').style.display = 'flex' </script> <table border=\"1\" class=\"dataframe\">\n",
       "  <thead>\n",
       "    <tr style=\"text-align: right;\">\n",
       "      <th></th>\n",
       "      <th>Gender</th>\n",
       "      <th>Height</th>\n",
       "      <th>Weight</th>\n",
       "      <th>BMI_category</th>\n",
       "      <th>BMI_range</th>\n",
       "      <th>Health_risk</th>\n",
       "    </tr>\n",
       "  </thead>\n",
       "  <tbody>\n",
       "    <tr>\n",
       "      <th>0</th>\n",
       "      <td>Male</td>\n",
       "      <td>171</td>\n",
       "      <td>96</td>\n",
       "      <td>Moderately obese</td>\n",
       "      <td>32.830615</td>\n",
       "      <td>Medium Risk</td>\n",
       "    </tr>\n",
       "    <tr>\n",
       "      <th>1</th>\n",
       "      <td>Male</td>\n",
       "      <td>161</td>\n",
       "      <td>85</td>\n",
       "      <td>Moderately obese</td>\n",
       "      <td>32.791945</td>\n",
       "      <td>Medium Risk</td>\n",
       "    </tr>\n",
       "    <tr>\n",
       "      <th>2</th>\n",
       "      <td>Male</td>\n",
       "      <td>180</td>\n",
       "      <td>77</td>\n",
       "      <td>Normal Weight</td>\n",
       "      <td>23.765432</td>\n",
       "      <td>Low Risk</td>\n",
       "    </tr>\n",
       "    <tr>\n",
       "      <th>3</th>\n",
       "      <td>Female</td>\n",
       "      <td>166</td>\n",
       "      <td>62</td>\n",
       "      <td>Normal Weight</td>\n",
       "      <td>22.499637</td>\n",
       "      <td>Low Risk</td>\n",
       "    </tr>\n",
       "    <tr>\n",
       "      <th>4</th>\n",
       "      <td>Female</td>\n",
       "      <td>150</td>\n",
       "      <td>70</td>\n",
       "      <td>Moderately obese</td>\n",
       "      <td>31.111111</td>\n",
       "      <td>Medium Risk</td>\n",
       "    </tr>\n",
       "    <tr>\n",
       "      <th>5</th>\n",
       "      <td>Female</td>\n",
       "      <td>167</td>\n",
       "      <td>82</td>\n",
       "      <td>Over Weight</td>\n",
       "      <td>29.402273</td>\n",
       "      <td>Enhanced Risk</td>\n",
       "    </tr>\n",
       "  </tbody>\n",
       "</table></div>"
      ],
      "text/plain": [
       "   Gender  Height  Weight      BMI_category  BMI_range    Health_risk\n",
       "0    Male     171      96  Moderately obese  32.830615    Medium Risk\n",
       "1    Male     161      85  Moderately obese  32.791945    Medium Risk\n",
       "2    Male     180      77     Normal Weight  23.765432       Low Risk\n",
       "3  Female     166      62     Normal Weight  22.499637       Low Risk\n",
       "4  Female     150      70  Moderately obese  31.111111    Medium Risk\n",
       "5  Female     167      82       Over Weight  29.402273  Enhanced Risk"
      ]
     },
     "execution_count": 41,
     "metadata": {},
     "output_type": "execute_result"
    }
   ],
   "source": [
    "#check the new columns in the new csv file using pandas dataframe\n",
    "New_df.head(6)"
   ]
  },
  {
   "cell_type": "code",
   "execution_count": 38,
   "id": "d875ad88",
   "metadata": {},
   "outputs": [
    {
     "data": {
      "text/plain": [
       "array(['Moderately obese', 'Normal Weight', 'Over Weight'], dtype=object)"
      ]
     },
     "execution_count": 38,
     "metadata": {},
     "output_type": "execute_result"
    }
   ],
   "source": [
    "#Question2: Number of total overweigh using BMI category using unique() funtion show that we have one person\n",
    "New_df['BMI_category'].unique()"
   ]
  },
  {
   "cell_type": "code",
   "execution_count": 39,
   "id": "8679192b",
   "metadata": {},
   "outputs": [
    {
     "data": {
      "text/plain": [
       "Moderately obese    3\n",
       "Normal Weight       2\n",
       "Over Weight         1\n",
       "Name: BMI_category, dtype: int64"
      ]
     },
     "execution_count": 39,
     "metadata": {},
     "output_type": "execute_result"
    }
   ],
   "source": [
    "#The funstion count give the distribution of the BMI category\n",
    "New_df['BMI_category'].value_counts()"
   ]
  },
  {
   "cell_type": "code",
   "execution_count": 36,
   "id": "5380d753",
   "metadata": {},
   "outputs": [
    {
     "data": {
      "image/png": "[encoded data removed]",
      "text/plain": [
       "<Figure size 432x288 with 1 Axes>"
      ]
     },
     "metadata": {},
     "output_type": "display_data"
    }
   ],
   "source": [
    "#BMI category plot representation \n",
    "New_df['BMI_category'].value_counts().plot(kind='bar');"
   ]
  },
  {
   "cell_type": "code",
   "execution_count": null,
   "id": "247a8cb9",
   "metadata": {},
   "outputs": [],
   "source": []
  }
 ],
 "metadata": {
  "kernelspec": {
   "display_name": "Python 3",
   "language": "python",
   "name": "python3"
  },
  "language_info": {
   "codemirror_mode": {
    "name": "ipython",
    "version": 3
   },
   "file_extension": ".py",
   "mimetype": "text/x-python",
   "name": "python",
   "nbconvert_exporter": "python",
   "pygments_lexer": "ipython3",
   "version": "3.7.0"
  }
 },
 "nbformat": 4,
 "nbformat_minor": 5
}
